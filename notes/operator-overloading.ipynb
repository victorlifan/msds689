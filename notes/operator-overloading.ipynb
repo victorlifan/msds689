{
 "cells": [
  {
   "cell_type": "markdown",
   "metadata": {},
   "source": [
    "# Operator overloading in Python\n",
    "\n",
    "Review [Object-oriented programming](https://github.com/parrt/msds501/blob/master/notes/OO.ipynb)\n",
    "\n",
    "Note: We *overload* operators but *override* methods in a subclass definition\n",
    "\n",
    "Python allows class definitions to implement functions that are called when standard operator symbols such as + and / are applied to objects of that type. This is extremely useful for mathematical libraries such as numpy, but is often abused. Note that you could redefine subtraction to be multiplication when someone used the `-` sign. (Yikes!)\n",
    "\n",
    "Imagine we have a simple `Point` class:"
   ]
  },
  {
   "cell_type": "code",
   "execution_count": 8,
   "metadata": {},
   "outputs": [
    {
     "data": {
      "text/plain": [
       "(3,4)"
      ]
     },
     "execution_count": 8,
     "metadata": {},
     "output_type": "execute_result"
    }
   ],
   "source": [
    "import numpy as np\n",
    "\n",
    "class Point:\n",
    "    def __init__(self, x, y):\n",
    "        self.x = x\n",
    "        self.y = y\n",
    "        \n",
    "    def distance(self, other):\n",
    "        return np.sqrt( (self.x - other.x)**2 + (self.y - other.y)**2 )\n",
    "    \n",
    "    def __str__(self): # convert to string, such as when printing\n",
    "        return f\"({self.x},{self.y})\"\n",
    "\n",
    "    def __repr__(self): # used to convert to string in notebooks\n",
    "        return f\"({self.x},{self.y})\"\n",
    "\n",
    "Point(3,4)"
   ]
  },
  {
   "cell_type": "markdown",
   "metadata": {},
   "source": [
    "Here's an extension to `Point` that supports + for `Point` addition:"
   ]
  },
  {
   "cell_type": "code",
   "execution_count": 9,
   "metadata": {},
   "outputs": [],
   "source": [
    "import numpy as np\n",
    "\n",
    "class Point:\n",
    "    def __init__(self, x, y):\n",
    "        self.x = x\n",
    "        self.y = y\n",
    "        \n",
    "    def distance(self, other):\n",
    "        return np.sqrt( (self.x - other.x)**2 + (self.y - other.y)**2 )\n",
    "    \n",
    "    def __add__(self,other):\n",
    "        x = self.x + other.x\n",
    "        y = self.y + other.y\n",
    "        return Point(x,y)\n",
    "    \n",
    "    def __str__(self):\n",
    "        return f\"({self.x},{self.y})\"\n",
    "\n",
    "    def __repr__(self): # used to convert to string in notebooks\n",
    "        return f\"({self.x},{self.y})\""
   ]
  },
  {
   "cell_type": "code",
   "execution_count": 10,
   "metadata": {},
   "outputs": [
    {
     "name": "stdout",
     "output_type": "stream",
     "text": [
      "(3,4) (5,6)\n",
      "(8,10)\n",
      "(8,10)\n"
     ]
    }
   ],
   "source": [
    "p = Point(3,4)\n",
    "q = Point(5,6)\n",
    "print(p, q)\n",
    "print(p + q) # calls p.__add__(q) or Point.__add__(p,q)\n",
    "print(Point.__add__(p,q))"
   ]
  },
  {
   "cell_type": "markdown",
   "metadata": {},
   "source": [
    "## Exercise"
   ]
  },
  {
   "cell_type": "markdown",
   "metadata": {},
   "source": [
    "Add a method to implement the `-` subtraction operator for `Point` so that the following code works:\n",
    "\n",
    "```\n",
    "p = Point(5,4)\n",
    "q = Point(1,5)\n",
    "print(p, q)\n",
    "print(p - q)\n",
    "```"
   ]
  },
  {
   "cell_type": "code",
   "execution_count": 1,
   "metadata": {},
   "outputs": [],
   "source": [
    "import numpy as np\n",
    "\n",
    "class Point:\n",
    "    def __init__(self, x, y):\n",
    "        self.x = x\n",
    "        self.y = y\n",
    "        \n",
    "    def distance(self, other):\n",
    "        return np.sqrt( (self.x - other.x)**2 + (self.y - other.y)**2 )\n",
    "    \n",
    "    def __add__(self,other):\n",
    "        x = self.x + other.x\n",
    "        y = self.y + other.y\n",
    "        return Point(x,y)\n",
    "    \n",
    "    def __str__(self):\n",
    "        return f\"({self.x},{self.y})\"\n",
    "\n",
    "    def __repr__(self): # used to convert to string in notebooks\n",
    "        return f\"({self.x},{self.y})\"\n",
    "    \n",
    "    def __sub__(self, other):\n",
    "        return self.x- other.x, self.y-other.y"
   ]
  },
  {
   "cell_type": "code",
   "execution_count": 2,
   "metadata": {},
   "outputs": [
    {
     "name": "stdout",
     "output_type": "stream",
     "text": [
      "(5,4) (1,5)\n",
      "(4, -1)\n"
     ]
    }
   ],
   "source": [
    "p = Point(5,4)\n",
    "q = Point(1,5)\n",
    "print(p, q)\n",
    "print(p - q)"
   ]
  },
  {
   "cell_type": "code",
   "execution_count": 4,
   "metadata": {},
   "outputs": [],
   "source": [
    "def __sub__(self,other):\n",
    "    x = self.x - other.x\n",
    "    y = self.y - other.y\n",
    "    return Point(x,y)"
   ]
  },
  {
   "cell_type": "code",
   "execution_count": 13,
   "metadata": {},
   "outputs": [
    {
     "data": {
      "text/plain": [
       "[9, 3, 1]"
      ]
     },
     "execution_count": 13,
     "metadata": {},
     "output_type": "execute_result"
    }
   ],
   "source": [
    "A = [9,1,3,1,9]\n",
    "def unique(A):\n",
    "    seen = set()\n",
    "    for a in A:\n",
    "        if a not in seen:\n",
    "            seen.add(a)\n",
    "    return list(seen)\n",
    "\n",
    "unique(A)"
   ]
  }
 ],
 "metadata": {
  "kernelspec": {
   "display_name": "Python 3 (ipykernel)",
   "language": "python",
   "name": "python3"
  },
  "language_info": {
   "codemirror_mode": {
    "name": "ipython",
    "version": 3
   },
   "file_extension": ".py",
   "mimetype": "text/x-python",
   "name": "python",
   "nbconvert_exporter": "python",
   "pygments_lexer": "ipython3",
   "version": "3.8.12"
  }
 },
 "nbformat": 4,
 "nbformat_minor": 4
}
