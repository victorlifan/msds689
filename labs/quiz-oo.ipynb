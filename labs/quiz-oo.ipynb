{
 "cells": [
  {
   "cell_type": "markdown",
   "metadata": {},
   "source": [
    "# Practice Quiz: Object-oriented programming"
   ]
  },
  {
   "cell_type": "markdown",
   "metadata": {},
   "source": [
    "**Q**. What's the advantage of using class definitions (OO programming) instead of just using functions in Python?"
   ]
  },
  {
   "cell_type": "markdown",
   "metadata": {},
   "source": [
    "<details>\n",
    "<summary>Solution</summary>\n",
    "There are a number of answers here that you could use.\n",
    "\n",
    "Classes allow you to logically group the data and functions to create fully contained entities. A dense way to say this is that a class groups state and behavior.\n",
    "\n",
    "Object-oriented programming mirrors how we think about the real world with objects sending messages back and forth, which often makes it easier to model the real world with software. \n",
    "\n",
    "Because classes create a new namespace, the same function name can be used to represent similar concepts associated with different data types. OO programming helps us to organize our code. (Useful but not as important as the other ideas.)\n",
    "</details>"
   ]
  },
  {
   "cell_type": "markdown",
   "metadata": {},
   "source": [
    "**Q.** What's the difference between a class and an object (or instance)?"
   ]
  },
  {
   "cell_type": "markdown",
   "metadata": {},
   "source": [
    "<details>\n",
    "<summary>Solution</summary>\n",
    "    The class is the definition of what data and functionality is associated with the entity described by the class.  There is one class definition but multiple objects, which are instantiations of the class. For example, User class definition describes the properties of a user and what functionality the user has. There can be many User objects, each one of the same class.\n",
    "</details>"
   ]
  },
  {
   "cell_type": "markdown",
   "metadata": {},
   "source": [
    "**Q**. Given the following class definition and instance of `A` called `x`, to what does Python translate method call `x.f(3)` (in other words, what is the non-OO version of that method call)?\n",
    "\n",
    "```python\n",
    "class A:\n",
    "    def __init__(self): ...\n",
    "    def f(self, v): ...\n",
    "```"
   ]
  },
  {
   "cell_type": "markdown",
   "metadata": {},
   "source": [
    "<details>\n",
    "<summary>Solution</summary>\n",
    "    <tt>A.f(x,3)</tt>\n",
    "    \n",
    "  It is NOT <tt>f(x,3)</tt> or <tt>f(A,x,3)</tt>\n",
    "</details>"
   ]
  },
  {
   "cell_type": "markdown",
   "metadata": {},
   "source": [
    "**Q**. If class A inherits from class B, which is the superclass?"
   ]
  },
  {
   "cell_type": "markdown",
   "metadata": {},
   "source": [
    "<details>\n",
    "<summary>Solution</summary>\n",
    "\"super\" means above in this context and \"sub\" means below.  Since we typically draw pictures with A over B, the parent class is called the superclass. You will also hear the term \"base class\" and \"derived class\" to mean the same thing as super and sub.\n",
    "</details>"
   ]
  },
  {
   "cell_type": "markdown",
   "metadata": {},
   "source": [
    "**Q**. Define a simple `Doc` class that has fields `title` and `content`, which are passed into the constructor."
   ]
  },
  {
   "cell_type": "code",
   "execution_count": 3,
   "metadata": {},
   "outputs": [
    {
     "data": {
      "text/plain": [
       "'x'"
      ]
     },
     "execution_count": 3,
     "metadata": {},
     "output_type": "execute_result"
    }
   ],
   "source": [
    "class Doc:\n",
    "    def __init__(self,title, content):\n",
    "        self.title = title\n",
    "        self.content = content\n",
    "Doc('am','x').content"
   ]
  },
  {
   "cell_type": "code",
   "execution_count": 10,
   "metadata": {},
   "outputs": [
    {
     "data": {
      "text/plain": [
       "'am'"
      ]
     },
     "execution_count": 10,
     "metadata": {},
     "output_type": "execute_result"
    }
   ],
   "source": [
    "class Doc:\n",
    "    def __init__(self, title,content):\n",
    "        self.title= title\n",
    "        self.content= content\n",
    "Doc('am','x').title"
   ]
  },
  {
   "cell_type": "markdown",
   "metadata": {},
   "source": [
    "<details>\n",
    "<summary>Solution</summary>\n",
    "<pre>\n",
    "class Doc:\n",
    "    def __init__(self, title, content):\n",
    "        self.title = title\n",
    "        self.content = content\n",
    "</pre>\n",
    "</details>"
   ]
  },
  {
   "cell_type": "markdown",
   "metadata": {},
   "source": [
    "**Q**.  Does the following get an error or does it print something? If it print something, what does it print?\n",
    "\n",
    "```Python\n",
    "class A:\n",
    "    def f(self):\n",
    "        print(\"A\")\n",
    "class B(A):\n",
    "    def g(self):\n",
    "        print(\"B\")\n",
    "a = B()\n",
    "a.f()\n",
    "```        "
   ]
  },
  {
   "cell_type": "code",
   "execution_count": 50,
   "metadata": {},
   "outputs": [
    {
     "name": "stdout",
     "output_type": "stream",
     "text": [
      "A\n"
     ]
    }
   ],
   "source": [
    "class A:\n",
    "    def f(self):\n",
    "        print(\"A\")\n",
    "class B(A):\n",
    "    def g(self):\n",
    "        print(\"B\")\n",
    "a = A()\n",
    "a.f()"
   ]
  },
  {
   "cell_type": "markdown",
   "metadata": {},
   "source": [
    "<details>\n",
    "<summary>Solution</summary>\n",
    "   It prints \"A\". Even though B does not have an f() method, its superclass does, which it inherits.\n",
    "</details>"
   ]
  },
  {
   "cell_type": "markdown",
   "metadata": {},
   "source": [
    "**Q**. Does the following code crash or print a value? If it prints, what is the output?\n",
    "\n",
    "```Python\n",
    "class A:\n",
    "    def f(self):\n",
    "        self.g()\n",
    "class B(A):\n",
    "    def g(self):\n",
    "        print(\"B\")\n",
    "a = B()\n",
    "a.f()\n",
    "```        "
   ]
  },
  {
   "cell_type": "code",
   "execution_count": 51,
   "metadata": {},
   "outputs": [],
   "source": [
    "class A:\n",
    "    def f(self):\n",
    "        self.g()\n",
    "class B(A):\n",
    "    def g(self):\n",
    "        print(\"B\")\n",
    "a = A()\n",
    "# parent obj can't call child method\n",
    "a.f()"
   ]
  },
  {
   "cell_type": "code",
   "execution_count": 54,
   "metadata": {},
   "outputs": [
    {
     "name": "stdout",
     "output_type": "stream",
     "text": [
      "B\n"
     ]
    }
   ],
   "source": [
    "a = B()\n",
    "a.g()"
   ]
  },
  {
   "cell_type": "markdown",
   "metadata": {},
   "source": [
    "<details>\n",
    "<summary>Solution</summary>\n",
    "    It prints \"B\".  Even though <tt>A</tt> does not have a g() method, the subclass does and we are creating an instance of the subclass. Remember the golden rule: <it>the receiver of a message send determines the response.</it> In this case, we are sending the message g to self, which is an object of type B. (Because we created an object of type B.)\n",
    "</details>"
   ]
  },
  {
   "cell_type": "markdown",
   "metadata": {},
   "source": [
    "**Q**.  What does the following print?\n",
    "\n",
    "```Python\n",
    "class A:\n",
    "    def f(self):\n",
    "        self.g()\n",
    "    def g(self):\n",
    "        print(\"A\")\n",
    "class B(A):\n",
    "    def g(self):\n",
    "        print(\"B\")\n",
    "a = B()\n",
    "a.f()\n",
    "```        "
   ]
  },
  {
   "cell_type": "code",
   "execution_count": 58,
   "metadata": {},
   "outputs": [
    {
     "name": "stdout",
     "output_type": "stream",
     "text": [
      "B\n",
      "B\n"
     ]
    }
   ],
   "source": [
    "class A:\n",
    "    def f(self):\n",
    "        self.g()\n",
    "    def g(self):\n",
    "        print(\"A\")\n",
    "class B(A):\n",
    "    def g(self):\n",
    "        print(\"B\")\n",
    "a = B() # it's a B obj, thus return B.g\n",
    "a.f()\n",
    "a.g()"
   ]
  },
  {
   "cell_type": "code",
   "execution_count": 57,
   "metadata": {},
   "outputs": [
    {
     "name": "stdout",
     "output_type": "stream",
     "text": [
      "A\n",
      "A\n"
     ]
    }
   ],
   "source": [
    "class A:\n",
    "    def f(self):\n",
    "        self.g()\n",
    "    def g(self):\n",
    "        print(\"A\")\n",
    "class B(A):\n",
    "    def g(self):\n",
    "        print(\"B\")\n",
    "a = A()\n",
    "a.f()\n",
    "a.g()"
   ]
  },
  {
   "cell_type": "markdown",
   "metadata": {},
   "source": [
    "<details>\n",
    "<summary>Solution</summary>\n",
    "    As with the previous example, we figure out what function is called by asking which kind of object we are calling g() on. In this case, we again are calling g() on self, a B object.\n",
    "</details>"
   ]
  }
 ],
 "metadata": {
  "kernelspec": {
   "display_name": "Python 3 (ipykernel)",
   "language": "python",
   "name": "python3"
  },
  "language_info": {
   "codemirror_mode": {
    "name": "ipython",
    "version": 3
   },
   "file_extension": ".py",
   "mimetype": "text/x-python",
   "name": "python",
   "nbconvert_exporter": "python",
   "pygments_lexer": "ipython3",
   "version": "3.9.10"
  }
 },
 "nbformat": 4,
 "nbformat_minor": 4
}
