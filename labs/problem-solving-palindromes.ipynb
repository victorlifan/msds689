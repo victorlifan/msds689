{
 "cells": [
  {
   "cell_type": "markdown",
   "metadata": {},
   "source": [
    "# Problem solving exercise\n",
    "\n",
    "(*There are solutions accessible by clicking if you run this in jupyter lab, versus github.*)"
   ]
  },
  {
   "cell_type": "markdown",
   "metadata": {},
   "source": [
    "Your goal is to solve the [LeetCode Valid Palindrome problem](https://leetcode.com/problems/valid-palindrome/) (Sign up if you haven't already):\n",
    "\n",
    "<blockquote>\n",
    "Given a string, determine if it is a palindrome, considering only alphanumeric characters and ignoring cases.  Note: For the purpose of this problem, we define empty string as valid palindrome.\n",
    "</blockquote>"
   ]
  },
  {
   "cell_type": "code",
   "execution_count": 38,
   "metadata": {},
   "outputs": [
    {
     "name": "stdout",
     "output_type": "stream",
     "text": [
      "0\n"
     ]
    }
   ],
   "source": [
    "a = 'A man, aaalan, a canal: Panama'\n",
    "la = [i.lower().strip() for i in a if i.isalnum()]\n",
    "rever = la[::-1]\n",
    "if ''.join(la)== ''.join(rever):\n",
    "    print(1)\n",
    "else:\n",
    "    print(0)"
   ]
  },
  {
   "cell_type": "markdown",
   "metadata": {},
   "source": [
    "**1**. What questions would you have for the interviewer about the details or the boundaries of the problem?"
   ]
  },
  {
   "cell_type": "markdown",
   "metadata": {},
   "source": []
  },
  {
   "cell_type": "markdown",
   "metadata": {},
   "source": [
    "<details>\n",
    "<summary>Solution</summary>\n",
    "What's a palindrome again? Is one character a palindrome?\n",
    "</details>"
   ]
  },
  {
   "cell_type": "markdown",
   "metadata": {},
   "source": [
    "**2**. Restate the problem in your own words and ask if that is correct. (You can tell it to your fellow student(s).)"
   ]
  },
  {
   "cell_type": "markdown",
   "metadata": {},
   "source": []
  },
  {
   "cell_type": "markdown",
   "metadata": {},
   "source": [
    "<details>\n",
    "<summary>Solution</summary>\n",
    "     write a function that returns true if a string is equal to the reverse of the string, ignoring case and nonalphanumeric characters.\n",
    "</details>"
   ]
  },
  {
   "cell_type": "markdown",
   "metadata": {},
   "source": [
    "**3**. Give small representative examples to help illustrate the problem."
   ]
  },
  {
   "cell_type": "markdown",
   "metadata": {},
   "source": []
  },
  {
   "cell_type": "markdown",
   "metadata": {},
   "source": [
    "<details>\n",
    "<summary>Solution</summary>\n",
    "<pre>\n",
    "\"aba\"\n",
    "\"9a9\"\n",
    "\"abc\"    (Note that you have to also give anti-examples)\n",
    "\"Abz\"\n",
    "\"A h a\"  (same as Aha or aha)\n",
    "\"Madam\"\n",
    "</pre>\n",
    "</details>"
   ]
  },
  {
   "cell_type": "markdown",
   "metadata": {},
   "source": [
    "**4**. Give an example(s) of an edge case for this problem."
   ]
  },
  {
   "cell_type": "markdown",
   "metadata": {},
   "source": []
  },
  {
   "cell_type": "markdown",
   "metadata": {},
   "source": [
    "<details>\n",
    "<summary>Solution</summary>\n",
    "<pre>\n",
    "\"\"\n",
    "\"a\"\n",
    "\"0\"\n",
    "</pre>\n",
    "</details>"
   ]
  },
  {
   "cell_type": "markdown",
   "metadata": {},
   "source": [
    "**5**. Explore the problem using the example or examples you created for the other steps.  In other words, start moving your finger(s) around the data and ask questions or compute things."
   ]
  },
  {
   "cell_type": "markdown",
   "metadata": {},
   "source": [
    "**6**. After walking through an example or two, try to write down the steps needed.  Make whatever assumptions you want about the questions you would ask the interviewer.  You can write this out in pseudocode or English."
   ]
  },
  {
   "cell_type": "markdown",
   "metadata": {},
   "source": []
  },
  {
   "cell_type": "markdown",
   "metadata": {},
   "source": [
    "<details>\n",
    "<summary>Solution</summary>\n",
    "<pre>\n",
    "Convert the string to lowercase and strip out nonalphanumeric characters\n",
    "Compare the characters at positions i and (n-1)-i\n",
    "If they ever differ, return false immediately\n",
    "otherwise return true at the end of the function\n",
    "</pre>\n",
    "</details>"
   ]
  },
  {
   "cell_type": "markdown",
   "metadata": {},
   "source": [
    "**7**. Write Python code that implements your algorithm. It's a good idea to create a function to show that you know how to organize code. Then write a main program that invokes that function."
   ]
  },
  {
   "cell_type": "markdown",
   "metadata": {},
   "source": []
  },
  {
   "cell_type": "markdown",
   "metadata": {},
   "source": [
    "<details>\n",
    "<summary>Solution</summary>\n",
    "<pre>\n",
    "def isPalindrome(self, s):\n",
    "    s = s.lower()\n",
    "    s = [c for c in s if c.isalnum()]\n",
    "    n = len(s)\n",
    "    for i in range(n):\n",
    "        if s[i]!=s[n-1-i]: return False\n",
    "    return True\n",
    "</pre>       \n",
    "</details>"
   ]
  }
 ],
 "metadata": {
  "kernelspec": {
   "display_name": "Python 3 (ipykernel)",
   "language": "python",
   "name": "python3"
  },
  "language_info": {
   "codemirror_mode": {
    "name": "ipython",
    "version": 3
   },
   "file_extension": ".py",
   "mimetype": "text/x-python",
   "name": "python",
   "nbconvert_exporter": "python",
   "pygments_lexer": "ipython3",
   "version": "3.9.10"
  }
 },
 "nbformat": 4,
 "nbformat_minor": 4
}
